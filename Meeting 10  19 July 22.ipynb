{
 "cells": [
  {
   "cell_type": "code",
   "execution_count": 1,
   "id": "da32f0d7-5b34-471f-9c42-a20cc32ecee8",
   "metadata": {},
   "outputs": [],
   "source": [
    "import numpy as np\n",
    "from scipy.special import gamma\n",
    "import matplotlib.pyplot as plt\n",
    "import seaborn as sns\n",
    "import pandas as pd"
   ]
  },
  {
   "cell_type": "code",
   "execution_count": 30,
   "id": "4013d5e1-c303-49dd-8232-fdf76e058ff0",
   "metadata": {},
   "outputs": [],
   "source": [
    "order1 = np.loadtxt('Data/Meeting 8 1 July 22/Alpha/Alpha = 0.1/mm2 Order.txt')\n",
    "order2 = np.loadtxt('Data/Meeting 8 1 July 22/Alpha/Alpha = 0.1/mm3 Order.txt')"
   ]
  },
  {
   "cell_type": "code",
   "execution_count": 31,
   "id": "046ca4ad-063d-46bd-a88c-1003137cc076",
   "metadata": {},
   "outputs": [],
   "source": [
    "avg1 = np.zeros([order1.shape[0]])\n",
    "avg2 =np.zeros([order1.shape[0]])"
   ]
  },
  {
   "cell_type": "code",
   "execution_count": 32,
   "id": "43185ed8-575a-4dd8-80a2-d9ff94e9c5fb",
   "metadata": {},
   "outputs": [],
   "source": [
    "for i in range(order1.shape[0]):\n",
    "    avg1[i] = np.count_nonzero(order1[i,:]==1) + np.count_nonzero(order1[i,:]==2) + 2*np.count_nonzero(order1[i,:]==4)\n",
    "    avg2[i] = np.count_nonzero(order2[i,:]==1) + np.count_nonzero(order2[i,:]==2) + 2*np.count_nonzero(order2[i,:]==4)"
   ]
  },
  {
   "cell_type": "code",
   "execution_count": 33,
   "id": "ba5b2372-09bf-4d9a-b040-f32b25b90130",
   "metadata": {},
   "outputs": [
    {
     "data": {
      "text/plain": [
       "62.43"
      ]
     },
     "execution_count": 33,
     "metadata": {},
     "output_type": "execute_result"
    }
   ],
   "source": [
    "avg1.mean()"
   ]
  },
  {
   "cell_type": "code",
   "execution_count": 34,
   "id": "e7ec3bb3-ef6b-42b6-818a-486c52df686f",
   "metadata": {},
   "outputs": [
    {
     "data": {
      "text/plain": [
       "62.86"
      ]
     },
     "execution_count": 34,
     "metadata": {},
     "output_type": "execute_result"
    }
   ],
   "source": [
    "avg2.mean()"
   ]
  },
  {
   "cell_type": "code",
   "execution_count": null,
   "id": "da2d7526-02c7-4482-a8f3-4c78a9c246f9",
   "metadata": {},
   "outputs": [],
   "source": []
  }
 ],
 "metadata": {
  "kernelspec": {
   "display_name": "Python 3 (ipykernel)",
   "language": "python",
   "name": "python3"
  },
  "language_info": {
   "codemirror_mode": {
    "name": "ipython",
    "version": 3
   },
   "file_extension": ".py",
   "mimetype": "text/x-python",
   "name": "python",
   "nbconvert_exporter": "python",
   "pygments_lexer": "ipython3",
   "version": "3.9.7"
  }
 },
 "nbformat": 4,
 "nbformat_minor": 5
}
