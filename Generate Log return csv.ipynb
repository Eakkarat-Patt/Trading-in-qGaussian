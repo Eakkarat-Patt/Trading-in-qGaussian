{
 "cells": [
  {
   "cell_type": "code",
   "execution_count": 4,
   "id": "841b2ab7-6fa7-4a6c-ab7b-8f8e5c1fa185",
   "metadata": {
    "pycharm": {
     "is_executing": true
    }
   },
   "outputs": [],
   "source": [
    "import pandas as pd\n",
    "import numpy as np\n",
    "import datetime"
   ]
  },
  {
   "cell_type": "code",
   "execution_count": 19,
   "id": "c862a273-564a-4494-81e2-e54c3fd5ca78",
   "metadata": {},
   "outputs": [
    {
     "name": "stderr",
     "output_type": "stream",
     "text": [
      "C:\\Users\\Eakka\\AppData\\Local\\Temp/ipykernel_15124/3636518229.py:4: SettingWithCopyWarning: \n",
      "A value is trying to be set on a copy of a slice from a DataFrame.\n",
      "Try using .loc[row_indexer,col_indexer] = value instead\n",
      "\n",
      "See the caveats in the documentation: https://pandas.pydata.org/pandas-docs/stable/user_guide/indexing.html#returning-a-view-versus-a-copy\n",
      "  tradingDay['Log return'] = np.log(tradingDay['Close']/tradingDay['Close'].shift(1))\n"
     ]
    }
   ],
   "source": [
    "df = pd.read_csv('sp500_minute_data.csv')\n",
    "df.set_index(['Date', 'Time'], inplace=True)\n",
    "tradingDay = df.loc['2010-01-01':'2012-12-31']\n",
    "tradingDay['Log return'] = np.log(tradingDay['Close']/tradingDay['Close'].shift(1))\n",
    "tradingDay.to_csv('Data/sp500_minute_LogReturn.csv')\n",
    "tradingDay.to_csv('Data/sp500_minute_LogReturn.csv')"
   ]
  },
  {
   "cell_type": "code",
   "execution_count": null,
   "id": "625bf573-c7ec-4815-808e-69b3d74611fe",
   "metadata": {},
   "outputs": [],
   "source": []
  }
 ],
 "metadata": {
  "kernelspec": {
   "display_name": "Python 3 (ipykernel)",
   "language": "python",
   "name": "python3"
  },
  "language_info": {
   "codemirror_mode": {
    "name": "ipython",
    "version": 3
   },
   "file_extension": ".py",
   "mimetype": "text/x-python",
   "name": "python",
   "nbconvert_exporter": "python",
   "pygments_lexer": "ipython3",
   "version": "3.9.7"
  }
 },
 "nbformat": 4,
 "nbformat_minor": 5
}
