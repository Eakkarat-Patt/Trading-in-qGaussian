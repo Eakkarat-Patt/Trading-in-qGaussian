{
 "cells": [
  {
   "cell_type": "code",
   "execution_count": 4,
   "id": "841b2ab7-6fa7-4a6c-ab7b-8f8e5c1fa185",
   "metadata": {},
   "outputs": [
    {
     "data": {
      "text/plain": [
       "9308.87"
      ]
     },
     "execution_count": 4,
     "metadata": {},
     "output_type": "execute_result"
    }
   ],
   "source": [
    " 142+680+8099.95+22.7+31.15+333.07"
   ]
  },
  {
   "cell_type": "code",
   "execution_count": 9,
   "id": "c862a273-564a-4494-81e2-e54c3fd5ca78",
   "metadata": {},
   "outputs": [
    {
     "data": {
      "text/plain": [
       "4308.870000000001"
      ]
     },
     "execution_count": 9,
     "metadata": {},
     "output_type": "execute_result"
    }
   ],
   "source": [
    " 142+680+8099.95+22.7+31.15+333.07-5000"
   ]
  },
  {
   "cell_type": "code",
   "execution_count": 6,
   "id": "911acf89-e625-4b02-b9d3-4141bdcbb532",
   "metadata": {},
   "outputs": [
    {
     "data": {
      "text/plain": [
       "5260.43"
      ]
     },
     "execution_count": 6,
     "metadata": {},
     "output_type": "execute_result"
    }
   ],
   "source": [
    "13392.2-8131.77"
   ]
  },
  {
   "cell_type": "code",
   "execution_count": 7,
   "id": "270b7b05-7076-48b2-a5b5-b213a404d0b0",
   "metadata": {},
   "outputs": [
    {
     "data": {
      "text/plain": [
       "827.5799999999999"
      ]
     },
     "execution_count": 7,
     "metadata": {},
     "output_type": "execute_result"
    }
   ],
   "source": [
    "13131.77-12304.19"
   ]
  },
  {
   "cell_type": "code",
   "execution_count": 8,
   "id": "f768fd5f-4205-4abf-b9dd-1a99b6ff8abf",
   "metadata": {},
   "outputs": [
    {
     "data": {
      "text/plain": [
       "-875.8499999999999"
      ]
     },
     "execution_count": 8,
     "metadata": {},
     "output_type": "execute_result"
    }
   ],
   "source": [
    "3433.02-4308.87"
   ]
  },
  {
   "cell_type": "code",
   "execution_count": 10,
   "id": "1427c2c9-69db-491b-bc61-722cb8e390d8",
   "metadata": {},
   "outputs": [
    {
     "data": {
      "text/plain": [
       "48.27000000000044"
      ]
     },
     "execution_count": 10,
     "metadata": {},
     "output_type": "execute_result"
    }
   ],
   "source": [
    "4308.870000000001-4260.6"
   ]
  },
  {
   "cell_type": "code",
   "execution_count": 11,
   "id": "eab7d79c-191a-4ab8-8dca-26e24a7b6cbd",
   "metadata": {},
   "outputs": [
    {
     "data": {
      "text/plain": [
       "827.5799999999999"
      ]
     },
     "execution_count": 11,
     "metadata": {},
     "output_type": "execute_result"
    }
   ],
   "source": [
    "13131.77-12304.19"
   ]
  },
  {
   "cell_type": "code",
   "execution_count": null,
   "id": "c9f41b76-7e04-4a64-88c7-882e1f1b5301",
   "metadata": {},
   "outputs": [],
   "source": []
  }
 ],
 "metadata": {
  "kernelspec": {
   "display_name": "Python 3 (ipykernel)",
   "language": "python",
   "name": "python3"
  },
  "language_info": {
   "codemirror_mode": {
    "name": "ipython",
    "version": 3
   },
   "file_extension": ".py",
   "mimetype": "text/x-python",
   "name": "python",
   "nbconvert_exporter": "python",
   "pygments_lexer": "ipython3",
   "version": "3.9.7"
  }
 },
 "nbformat": 4,
 "nbformat_minor": 5
}
