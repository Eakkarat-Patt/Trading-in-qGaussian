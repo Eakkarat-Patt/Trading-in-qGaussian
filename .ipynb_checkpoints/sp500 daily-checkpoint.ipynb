{
 "cells": [
  {
   "cell_type": "code",
   "execution_count": null,
   "id": "77a28b87-172e-4fe8-8cae-0a26c40588c2",
   "metadata": {},
   "outputs": [],
   "source": [
    "import pandas as pd\n",
    "import numpy as np\n",
    "import datetime"
   ]
  },
  {
   "cell_type": "code",
   "execution_count": null,
   "id": "5e82ca09-46d2-455c-b28e-9629ad9aaef3",
   "metadata": {},
   "outputs": [],
   "source": [
    "df = pd.read_csv('Data/spx_d.csv', thousands=',') # Daily price\n",
    "df['Date'] = pd.to_datetime(df['Date'], format='%b %d, %Y')\n",
    "df.set_index(['Date'],inplace=True)\n",
    "df['Log return'] = np.log(df['Price']/df['Price'].shift(1))\n",
    "df.drop(['Open', 'High', 'Low', 'Vol.', 'Change %'], inplace=True, axis=1)"
   ]
  },
  {
   "cell_type": "code",
   "execution_count": null,
   "id": "cc010ae2-50ea-40eb-b437-bb0d9c140782",
   "metadata": {},
   "outputs": [],
   "source": [
    "df.to_csv('Data/spx_d log return.csv')"
   ]
  }
 ],
 "metadata": {
  "kernelspec": {
   "display_name": "Python 3 (ipykernel)",
   "language": "python",
   "name": "python3"
  },
  "language_info": {
   "codemirror_mode": {
    "name": "ipython",
    "version": 3
   },
   "file_extension": ".py",
   "mimetype": "text/x-python",
   "name": "python",
   "nbconvert_exporter": "python",
   "pygments_lexer": "ipython3",
   "version": "3.9.7"
  }
 },
 "nbformat": 4,
 "nbformat_minor": 5
}
