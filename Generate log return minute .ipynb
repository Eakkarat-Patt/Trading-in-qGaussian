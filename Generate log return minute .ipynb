{
 "cells": [
  {
   "cell_type": "code",
   "execution_count": null,
   "id": "736135e6-f2df-469f-8a08-b1811a5b062d",
   "metadata": {},
   "outputs": [],
   "source": [
    "import pandas as pd\n",
    "import numpy as np\n",
    "import datetime\n",
    "import matplotlib.pyplot as plt\n",
    "import seaborn as sns"
   ]
  },
  {
   "cell_type": "code",
   "execution_count": null,
   "id": "6eaf594e-0c70-4e3f-b9cb-b43db583dcf5",
   "metadata": {},
   "outputs": [],
   "source": [
    "df = pd.read_csv('Data/sp500data.csv')"
   ]
  },
  {
   "cell_type": "code",
   "execution_count": null,
   "id": "dcf591e6-13d5-4342-9925-ffd00a5da56e",
   "metadata": {},
   "outputs": [],
   "source": [
    "df"
   ]
  },
  {
   "cell_type": "code",
   "execution_count": null,
   "id": "d06ebae3-fa11-4a6a-b38a-0a34cc61dfa4",
   "metadata": {},
   "outputs": [],
   "source": [
    "df = df.pivot_table(values='Close', index='Date', columns='Time')\n",
    "df"
   ]
  },
  {
   "cell_type": "code",
   "execution_count": null,
   "id": "45127965-0b71-43e7-b3bf-decce1f42773",
   "metadata": {},
   "outputs": [],
   "source": [
    "df = df.loc['2015-01-01':'2020-12-31',:]\n",
    "df"
   ]
  },
  {
   "cell_type": "code",
   "execution_count": null,
   "id": "0a251a0e-ac47-44be-ad1f-ec5459b6600f",
   "metadata": {},
   "outputs": [],
   "source": [
    "df = df.dropna()\n",
    "df"
   ]
  },
  {
   "cell_type": "code",
   "execution_count": null,
   "id": "de7bcaf0-1b07-4d87-91df-df1cb6914eeb",
   "metadata": {},
   "outputs": [],
   "source": []
  }
 ],
 "metadata": {
  "kernelspec": {
   "display_name": "Python 3 (ipykernel)",
   "language": "python",
   "name": "python3"
  },
  "language_info": {
   "codemirror_mode": {
    "name": "ipython",
    "version": 3
   },
   "file_extension": ".py",
   "mimetype": "text/x-python",
   "name": "python",
   "nbconvert_exporter": "python",
   "pygments_lexer": "ipython3",
   "version": "3.9.7"
  }
 },
 "nbformat": 4,
 "nbformat_minor": 5
}
