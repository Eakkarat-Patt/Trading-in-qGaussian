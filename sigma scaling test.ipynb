{
 "cells": [
  {
   "cell_type": "code",
   "execution_count": 1,
   "id": "fbf5fff0-e877-4985-a538-638a07dee057",
   "metadata": {},
   "outputs": [],
   "source": [
    "import numpy as np\n",
    "from scipy.special import gamma"
   ]
  },
  {
   "cell_type": "code",
   "execution_count": 2,
   "id": "ff8e000f-e802-40ff-af84-dc5e820764e4",
   "metadata": {},
   "outputs": [],
   "source": [
    "q = 1.5\n",
    "c = (np.pi * gamma(1 / (q - 1) - 0.5) ** 2) / ((q - 1) * gamma(1 / (q - 1)) ** 2)\n",
    "B = c ** ((1 - q) / (3 - q)) * ((2 - q) * (3 - q)) ** (-2 / (3 - q))"
   ]
  },
  {
   "cell_type": "code",
   "execution_count": 3,
   "id": "6ae17844-d086-4422-9821-29b99e2a040e",
   "metadata": {},
   "outputs": [
    {
     "data": {
      "text/plain": [
       "1.523236946344889"
      ]
     },
     "execution_count": 3,
     "metadata": {},
     "output_type": "execute_result"
    }
   ],
   "source": [
    "np.sqrt(1/((5-3*q)*B))"
   ]
  },
  {
   "cell_type": "code",
   "execution_count": null,
   "id": "191aa086-6d35-4213-96b4-ac8f9f7261e1",
   "metadata": {},
   "outputs": [],
   "source": []
  }
 ],
 "metadata": {
  "kernelspec": {
   "display_name": "Python 3 (ipykernel)",
   "language": "python",
   "name": "python3"
  },
  "language_info": {
   "codemirror_mode": {
    "name": "ipython",
    "version": 3
   },
   "file_extension": ".py",
   "mimetype": "text/x-python",
   "name": "python",
   "nbconvert_exporter": "python",
   "pygments_lexer": "ipython3",
   "version": "3.9.12"
  }
 },
 "nbformat": 4,
 "nbformat_minor": 5
}
