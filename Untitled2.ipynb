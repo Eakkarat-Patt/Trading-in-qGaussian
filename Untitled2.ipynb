{
 "cells": [
  {
   "cell_type": "code",
   "execution_count": 31,
   "id": "ac77b7d1-af7d-4a37-858f-e1397abfbdb0",
   "metadata": {},
   "outputs": [],
   "source": [
    "import matplotlib.pyplot as plt\n",
    "from scipy.stats import norm\n",
    "import numpy as np\n",
    "import pandas as pd\n",
    "import datetime"
   ]
  },
  {
   "cell_type": "code",
   "execution_count": 2,
   "id": "0e49bee8-a073-4de1-977c-1b26b3d3bc11",
   "metadata": {},
   "outputs": [
    {
     "name": "stderr",
     "output_type": "stream",
     "text": [
      "/Users/eakkarat/opt/anaconda3/lib/python3.7/site-packages/ipykernel_launcher.py:4: SettingWithCopyWarning: \n",
      "A value is trying to be set on a copy of a slice from a DataFrame.\n",
      "Try using .loc[row_indexer,col_indexer] = value instead\n",
      "\n",
      "See the caveats in the documentation: https://pandas.pydata.org/pandas-docs/stable/user_guide/indexing.html#returning-a-view-versus-a-copy\n",
      "  after removing the cwd from sys.path.\n",
      "/Users/eakkarat/opt/anaconda3/lib/python3.7/site-packages/ipykernel_launcher.py:7: SettingWithCopyWarning: \n",
      "A value is trying to be set on a copy of a slice from a DataFrame.\n",
      "Try using .loc[row_indexer,col_indexer] = value instead\n",
      "\n",
      "See the caveats in the documentation: https://pandas.pydata.org/pandas-docs/stable/user_guide/indexing.html#returning-a-view-versus-a-copy\n",
      "  import sys\n"
     ]
    }
   ],
   "source": [
    "df = pd.read_csv('Data/sp500data.csv')\n",
    "df.set_index(['Date', 'Time'], inplace=True)\n",
    "tradingDay = df.loc['2010-01-02':'2014-12-31']\n",
    "tradingDay['Log return'] = np.log(tradingDay['Close']/tradingDay['Close'].shift(1))\n",
    "mu = tradingDay['Log return'].mean()\n",
    "std = tradingDay['Log return'].std()\n",
    "tradingDay['Log return'] = (tradingDay['Log return']-mu)/std  # Standardization"
   ]
  },
  {
   "cell_type": "code",
   "execution_count": 11,
   "id": "b87f1267-efc1-4102-9570-2c1affb14ec5",
   "metadata": {},
   "outputs": [
    {
     "data": {
      "text/plain": [
       "int"
      ]
     },
     "execution_count": 11,
     "metadata": {},
     "output_type": "execute_result"
    }
   ],
   "source": [
    "type(tradingDay.shape[0])"
   ]
  },
  {
   "cell_type": "code",
   "execution_count": 4,
   "id": "bb5f8422-caad-4ea5-ae04-52a707725c57",
   "metadata": {},
   "outputs": [
    {
     "data": {
      "text/plain": [
       "Date        Time    \n",
       "2010-01-04  08:31:00    1122.15\n",
       "            08:32:00    1123.80\n",
       "            08:33:00    1124.23\n",
       "            08:34:00    1124.23\n",
       "            08:35:00    1124.26\n",
       "                         ...   \n",
       "2010-01-08  14:56:00    1144.66\n",
       "            14:57:00    1144.63\n",
       "            14:58:00    1144.44\n",
       "            14:59:00    1144.72\n",
       "            15:00:00    1144.70\n",
       "Name: Close, Length: 1950, dtype: float64"
      ]
     },
     "execution_count": 4,
     "metadata": {},
     "output_type": "execute_result"
    }
   ],
   "source": [
    "tradingDay.loc['2010-01-04':'2010-01-08', 'Close']"
   ]
  },
  {
   "cell_type": "code",
   "execution_count": 14,
   "id": "cd9b10d9-1bde-42a5-9319-4fb4d2a376a6",
   "metadata": {},
   "outputs": [],
   "source": [
    "def tradingDay(startDate, stopDate):\n",
    "    df = pd.read_csv('Data/sp500data.csv')\n",
    "    df.set_index(['Date', 'Time'], inplace=True)\n",
    "    trade = df.loc[startDate:stopDate, 'Close']\n",
    "    return trade"
   ]
  },
  {
   "cell_type": "code",
   "execution_count": 15,
   "id": "dc30fcca-3d27-4d8b-938b-dc6d5dbb9a1d",
   "metadata": {},
   "outputs": [],
   "source": [
    "trade = tradingDay('2000-01-04', '2000-01-08')"
   ]
  },
  {
   "cell_type": "code",
   "execution_count": 17,
   "id": "a0d70107-789d-4fec-8af6-141964658b04",
   "metadata": {},
   "outputs": [
    {
     "data": {
      "text/plain": [
       "(1582,)"
      ]
     },
     "execution_count": 17,
     "metadata": {},
     "output_type": "execute_result"
    }
   ],
   "source": [
    "trade.shape"
   ]
  },
  {
   "cell_type": "code",
   "execution_count": 13,
   "id": "3323ed4c-7d47-47cc-935f-58aaf1967e89",
   "metadata": {},
   "outputs": [
    {
     "data": {
      "text/plain": [
       "int"
      ]
     },
     "execution_count": 13,
     "metadata": {},
     "output_type": "execute_result"
    }
   ],
   "source": [
    "type((datetime.date(2020,2,1)-datetime.date(2020, 1, 15)).days)"
   ]
  },
  {
   "cell_type": "code",
   "execution_count": 26,
   "id": "66fd03bf-1892-47eb-b506-9e75e56eb13a",
   "metadata": {},
   "outputs": [
    {
     "name": "stdout",
     "output_type": "stream",
     "text": [
      "17 days, 0:00:00\n"
     ]
    }
   ],
   "source": [
    "print(datetime.date(2020,2,1)-datetime.date(2020, 1, 15))"
   ]
  },
  {
   "cell_type": "code",
   "execution_count": 27,
   "id": "4dd9928e-331e-4961-9065-a5f8d12d71dd",
   "metadata": {},
   "outputs": [
    {
     "data": {
      "text/plain": [
       "datetime.timedelta"
      ]
     },
     "execution_count": 27,
     "metadata": {},
     "output_type": "execute_result"
    }
   ],
   "source": [
    "type(datetime.date(2020,2,1)-datetime.date(2020, 1, 15))"
   ]
  },
  {
   "cell_type": "code",
   "execution_count": 32,
   "id": "eed1c56e-585e-4798-a730-d87bba7f5013",
   "metadata": {},
   "outputs": [],
   "source": [
    "start_date = datetime.date(2020, 1, 1)\n",
    "end_date = datetime.date(2020, 1, 4)\n",
    "delta = datetime.timedelta(days=1)"
   ]
  },
  {
   "cell_type": "code",
   "execution_count": 29,
   "id": "28d995b5-1de5-492d-b8d1-d186fe2ec35c",
   "metadata": {},
   "outputs": [
    {
     "data": {
      "text/plain": [
       "datetime.timedelta(days=1)"
      ]
     },
     "execution_count": 29,
     "metadata": {},
     "output_type": "execute_result"
    }
   ],
   "source": [
    "delta"
   ]
  },
  {
   "cell_type": "code",
   "execution_count": 18,
   "id": "54f8f6aa-2dee-4cbf-a260-d87cf15627c9",
   "metadata": {},
   "outputs": [
    {
     "data": {
      "text/plain": [
       "array([0., 0., 0., 0., 0., 0., 0., 0., 0., 0., 0., 0., 0., 0., 0., 0., 0.])"
      ]
     },
     "execution_count": 18,
     "metadata": {},
     "output_type": "execute_result"
    }
   ],
   "source": [
    "np.zeros([(datetime.date(2020,2,1)-datetime.date(2020, 1, 15)).days])"
   ]
  },
  {
   "cell_type": "code",
   "execution_count": 19,
   "id": "52733759-5910-4f2f-8379-e3412391d8a3",
   "metadata": {},
   "outputs": [],
   "source": [
    "x = datetime.date(2020,2,1)"
   ]
  },
  {
   "cell_type": "code",
   "execution_count": 22,
   "id": "7673d65d-f74a-417b-8bf3-d2432c611c1a",
   "metadata": {},
   "outputs": [
    {
     "data": {
      "text/plain": [
       "1"
      ]
     },
     "execution_count": 22,
     "metadata": {},
     "output_type": "execute_result"
    }
   ],
   "source": [
    "x.day"
   ]
  },
  {
   "cell_type": "code",
   "execution_count": 33,
   "id": "9ad5e7fa-23f0-4c82-bcc2-35d2a94ac442",
   "metadata": {},
   "outputs": [
    {
     "ename": "AttributeError",
     "evalue": "module 'datetime' has no attribute 'strptime'",
     "output_type": "error",
     "traceback": [
      "\u001b[0;31m---------------------------------------------------------------------------\u001b[0m",
      "\u001b[0;31mAttributeError\u001b[0m                            Traceback (most recent call last)",
      "\u001b[0;32m/var/folders/cm/chqyyvzd1qb899zxtlcf2y040000gn/T/ipykernel_34584/3878253434.py\u001b[0m in \u001b[0;36m<module>\u001b[0;34m\u001b[0m\n\u001b[1;32m      1\u001b[0m \u001b[0mstring\u001b[0m \u001b[0;34m=\u001b[0m \u001b[0;34m'2020-02-05'\u001b[0m\u001b[0;34m\u001b[0m\u001b[0;34m\u001b[0m\u001b[0m\n\u001b[0;32m----> 2\u001b[0;31m \u001b[0my\u001b[0m \u001b[0;34m=\u001b[0m \u001b[0mdatetime\u001b[0m\u001b[0;34m.\u001b[0m\u001b[0mstrptime\u001b[0m\u001b[0;34m(\u001b[0m\u001b[0mstring\u001b[0m\u001b[0;34m,\u001b[0m \u001b[0;34m'%Y-%m-%d'\u001b[0m\u001b[0;34m)\u001b[0m\u001b[0;34m\u001b[0m\u001b[0;34m\u001b[0m\u001b[0m\n\u001b[0m",
      "\u001b[0;31mAttributeError\u001b[0m: module 'datetime' has no attribute 'strptime'"
     ]
    }
   ],
   "source": [
    "string = '2020-02-05'\n",
    "y = datetime.strptime(string, '%Y-%m-%d')"
   ]
  },
  {
   "cell_type": "code",
   "execution_count": 26,
   "id": "1a8ec7fc-a030-46e2-9118-d13ce30b1ad9",
   "metadata": {},
   "outputs": [
    {
     "data": {
      "text/plain": [
       "datetime.datetime(2020, 2, 5, 0, 0)"
      ]
     },
     "execution_count": 26,
     "metadata": {},
     "output_type": "execute_result"
    }
   ],
   "source": [
    "y"
   ]
  },
  {
   "cell_type": "code",
   "execution_count": 27,
   "id": "02428d93-1e78-40d9-94f3-6b627382cb4c",
   "metadata": {},
   "outputs": [
    {
     "data": {
      "text/plain": [
       "2"
      ]
     },
     "execution_count": 27,
     "metadata": {},
     "output_type": "execute_result"
    }
   ],
   "source": [
    "y.month"
   ]
  },
  {
   "cell_type": "code",
   "execution_count": 28,
   "id": "205ad5a4-418a-4c45-931d-cd4dbaa0be0b",
   "metadata": {},
   "outputs": [
    {
     "data": {
      "text/plain": [
       "5"
      ]
     },
     "execution_count": 28,
     "metadata": {},
     "output_type": "execute_result"
    }
   ],
   "source": [
    "y.day"
   ]
  },
  {
   "cell_type": "code",
   "execution_count": 29,
   "id": "6bd03d26-0c1f-4251-9cd4-9d046e11764e",
   "metadata": {},
   "outputs": [
    {
     "data": {
      "text/plain": [
       "2020"
      ]
     },
     "execution_count": 29,
     "metadata": {},
     "output_type": "execute_result"
    }
   ],
   "source": [
    "y.year"
   ]
  },
  {
   "cell_type": "code",
   "execution_count": null,
   "id": "e051c4e4-f8d5-4c86-92ca-9665723cbd5a",
   "metadata": {},
   "outputs": [],
   "source": []
  }
 ],
 "metadata": {
  "kernelspec": {
   "display_name": "Python 3 (ipykernel)",
   "language": "python",
   "name": "python3"
  },
  "language_info": {
   "codemirror_mode": {
    "name": "ipython",
    "version": 3
   },
   "file_extension": ".py",
   "mimetype": "text/x-python",
   "name": "python",
   "nbconvert_exporter": "python",
   "pygments_lexer": "ipython3",
   "version": "3.7.9"
  }
 },
 "nbformat": 4,
 "nbformat_minor": 5
}
